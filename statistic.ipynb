{
 "cells": [
  {
   "cell_type": "code",
   "execution_count": 1,
   "metadata": {},
   "outputs": [],
   "source": [
    "data = [15,18,16,20,21,12,20,17,22,20,24,24,25,10,17,22,21,26,30,27,14,15,19,20,31,26,55,20,15,26,27,23,32,17,10,28,33,14,29,20]"
   ]
  },
  {
   "cell_type": "code",
   "execution_count": 2,
   "metadata": {},
   "outputs": [
    {
     "name": "stdout",
     "output_type": "stream",
     "text": [
      "[10, 10, 12, 14, 14, 15, 15, 15, 16, 17, 17, 17, 18, 19, 20, 20, 20, 20, 20, 20, 21, 21, 22, 22, 23, 24, 24, 25, 26, 26, 26, 27, 27, 28, 29, 30, 31, 32, 33, 55]\n"
     ]
    }
   ],
   "source": [
    "def sorting (data):\n",
    "    n = len(data)\n",
    "    for i in range(n):\n",
    "        for j in range(i+1,n):\n",
    "            if data[i] > data[j]:\n",
    "                data[i], data[j] = data[j],data[i]\n",
    "\n",
    "sorting(data)\n",
    "print(data)\n"
   ]
  },
  {
   "cell_type": "code",
   "execution_count": 3,
   "metadata": {},
   "outputs": [
    {
     "data": {
      "text/plain": [
       "881"
      ]
     },
     "execution_count": 3,
     "metadata": {},
     "output_type": "execute_result"
    }
   ],
   "source": [
    "def calc_sum(data):\n",
    "    count = 0\n",
    "    for i in data:\n",
    "        count += i\n",
    "    return count\n",
    "\n",
    "calc_sum(data)"
   ]
  },
  {
   "cell_type": "code",
   "execution_count": 4,
   "metadata": {},
   "outputs": [
    {
     "data": {
      "text/plain": [
       "40"
      ]
     },
     "execution_count": 4,
     "metadata": {},
     "output_type": "execute_result"
    }
   ],
   "source": [
    "def calc_len(your_data):\n",
    "    len = 0\n",
    "    for _ in your_data:\n",
    "        len += 1\n",
    "    return len\n",
    "\n",
    "calc_len(data)\n"
   ]
  },
  {
   "cell_type": "code",
   "execution_count": 5,
   "metadata": {},
   "outputs": [
    {
     "data": {
      "text/plain": [
       "10"
      ]
     },
     "execution_count": 5,
     "metadata": {},
     "output_type": "execute_result"
    }
   ],
   "source": [
    "def calc_min(data):\n",
    "     data_min = data[0]\n",
    "     for i in data :\n",
    "          if i < data_min:\n",
    "              data_min = i\n",
    "     return data_min\n",
    "\n",
    "min(data)"
   ]
  },
  {
   "cell_type": "code",
   "execution_count": 6,
   "metadata": {},
   "outputs": [
    {
     "data": {
      "text/plain": [
       "55"
      ]
     },
     "execution_count": 6,
     "metadata": {},
     "output_type": "execute_result"
    }
   ],
   "source": [
    "def calc_max(data):\n",
    "     data_max = data[-1]\n",
    "     for i in data :\n",
    "          if i > data_max:\n",
    "              data_max = i\n",
    "     return data_max\n",
    "\n",
    "max(data)"
   ]
  },
  {
   "cell_type": "code",
   "execution_count": 7,
   "metadata": {},
   "outputs": [
    {
     "data": {
      "text/plain": [
       "22.025"
      ]
     },
     "execution_count": 7,
     "metadata": {},
     "output_type": "execute_result"
    }
   ],
   "source": [
    "def calc_mean (your_data):\n",
    "    return calc_sum(your_data)/calc_len(your_data)\n",
    "\n",
    "calc_mean(data)"
   ]
  },
  {
   "cell_type": "code",
   "execution_count": 8,
   "metadata": {},
   "outputs": [
    {
     "name": "stdout",
     "output_type": "stream",
     "text": [
      "20 21\n"
     ]
    },
    {
     "data": {
      "text/plain": [
       "20.5"
      ]
     },
     "execution_count": 8,
     "metadata": {},
     "output_type": "execute_result"
    }
   ],
   "source": [
    "def calc_median (your_data):\n",
    "    n = calc_len(your_data)\n",
    "    if n % 2 == 0 :\n",
    "        mid1      = your_data [ (n // 2) -1 ]\n",
    "        mid2      = your_data [ (n // 2) ]\n",
    "        print(mid1,mid2)\n",
    "        median    = ( mid1 + mid2 ) / 2\n",
    "    else : median = your_data [ n//2 ]\n",
    "    return median\n",
    "\n",
    "\n",
    "calc_median(data)"
   ]
  },
  {
   "cell_type": "code",
   "execution_count": 9,
   "metadata": {},
   "outputs": [
    {
     "name": "stdout",
     "output_type": "stream",
     "text": [
      "2480.9750000000004\n"
     ]
    },
    {
     "data": {
      "text/plain": [
       "62.024375000000006"
      ]
     },
     "execution_count": 9,
     "metadata": {},
     "output_type": "execute_result"
    }
   ],
   "source": [
    "def calc_variance (your_data):\n",
    "    mean              =  calc_mean(your_data)\n",
    "    squared_different = [(x - mean)**2 for x in your_data]\n",
    "    print(sum(squared_different))\n",
    "    variance          =  sum(squared_different) / len(data)\n",
    "    return variance\n",
    "\n",
    "calc_variance(data)"
   ]
  },
  {
   "cell_type": "code",
   "execution_count": 10,
   "metadata": {},
   "outputs": [
    {
     "name": "stdout",
     "output_type": "stream",
     "text": [
      "2480.9750000000004\n"
     ]
    },
    {
     "data": {
      "text/plain": [
       "7.875555535960622"
      ]
     },
     "execution_count": 10,
     "metadata": {},
     "output_type": "execute_result"
    }
   ],
   "source": [
    "def calc_std(your_data):\n",
    "    return calc_variance(your_data)**0.5\n",
    "\n",
    "calc_std(data)"
   ]
  },
  {
   "cell_type": "code",
   "execution_count": 18,
   "metadata": {},
   "outputs": [],
   "source": [
    "def calc_dpq(data,i,choice):\n",
    "    dividers = {\"d\": 10, \"p\": 100, \"q\": 4}\n",
    "    divider = dividers.get(choice)\n",
    "    print(f\"divider : {divider}\")\n",
    "    n     = calc_len(data)\n",
    "    i_loc = i * (n + 1) / divider\n",
    "    print(f\"i location : {i_loc}\")\n",
    "    k     = int(i_loc)\n",
    "    print(f\"k : {k}\")\n",
    "    d     = i_loc - k\n",
    "    print(f\"d : {d}\")\n",
    "    if d == 0 : result = data[k - 1]\n",
    "    else      : result = data[k - 1] + d * (data[k] - data[k - 1])\n",
    "    print(f\"data[k - 1] : {data[k-1]} \")\n",
    "    print(f\"data[k] : {data[k]}\")\n",
    "    return result\n"
   ]
  },
  {
   "cell_type": "code",
   "execution_count": 12,
   "metadata": {},
   "outputs": [],
   "source": [
    "def calc_q1q3(data):\n",
    "    below_med = [x for x in data if x <= calc_median(data)]\n",
    "    above_med = [x for x in data if x >= calc_median(data)]\n",
    "    q1        = calc_median(below_med)\n",
    "    q3        = calc_median(above_med)\n",
    "    return q1,q3  \n"
   ]
  },
  {
   "cell_type": "code",
   "execution_count": 19,
   "metadata": {},
   "outputs": [
    {
     "name": "stdout",
     "output_type": "stream",
     "text": [
      "4\n",
      "10.25\n",
      "10\n",
      "0.25\n",
      "17\n",
      "17\n",
      "Quartile 1 :17.0 \n",
      "4\n",
      "20.5\n",
      "20\n",
      "0.5\n",
      "20\n",
      "21\n",
      "Quartile 2 :20.5 \n",
      "4\n",
      "30.75\n",
      "30\n",
      "0.75\n",
      "26\n",
      "26\n",
      "Quartile 3 :26.0 \n",
      "10\n",
      "4.1\n",
      "4\n",
      "0.09999999999999964\n",
      "14\n",
      "14\n",
      "Decile 1 :14.0 \n",
      "10\n",
      "8.2\n",
      "8\n",
      "0.1999999999999993\n",
      "15\n",
      "16\n",
      "Decile 2 :15.2 \n",
      "10\n",
      "12.3\n",
      "12\n",
      "0.3000000000000007\n",
      "17\n",
      "18\n",
      "Decile 3 :17.3 \n",
      "10\n",
      "16.4\n",
      "16\n",
      "0.3999999999999986\n",
      "20\n",
      "20\n",
      "Decile 4 :20.0 \n",
      "10\n",
      "20.5\n",
      "20\n",
      "0.5\n",
      "20\n",
      "21\n",
      "Decile 5 :20.5 \n",
      "10\n",
      "24.6\n",
      "24\n",
      "0.6000000000000014\n",
      "22\n",
      "23\n",
      "Decile 6 :22.6 \n",
      "10\n",
      "28.7\n",
      "28\n",
      "0.6999999999999993\n",
      "25\n",
      "26\n",
      "Decile 7 :25.7 \n",
      "10\n",
      "32.8\n",
      "32\n",
      "0.7999999999999972\n",
      "27\n",
      "27\n",
      "Decile 8 :27.0 \n",
      "10\n",
      "36.9\n",
      "36\n",
      "0.8999999999999986\n",
      "30\n",
      "31\n",
      "Decile 9 :30.9 \n",
      "100\n",
      "0.0\n",
      "0\n",
      "0.0\n",
      "55\n",
      "10\n",
      "Percentile 0 :55 \n",
      "100\n",
      "4.1\n",
      "4\n",
      "0.09999999999999964\n",
      "14\n",
      "14\n",
      "Percentile 10 :14.0 \n",
      "100\n",
      "8.2\n",
      "8\n",
      "0.1999999999999993\n",
      "15\n",
      "16\n",
      "Percentile 20 :15.2 \n",
      "100\n",
      "12.3\n",
      "12\n",
      "0.3000000000000007\n",
      "17\n",
      "18\n",
      "Percentile 30 :17.3 \n",
      "100\n",
      "16.4\n",
      "16\n",
      "0.3999999999999986\n",
      "20\n",
      "20\n",
      "Percentile 40 :20.0 \n",
      "100\n",
      "20.5\n",
      "20\n",
      "0.5\n",
      "20\n",
      "21\n",
      "Percentile 50 :20.5 \n",
      "100\n",
      "24.6\n",
      "24\n",
      "0.6000000000000014\n",
      "22\n",
      "23\n",
      "Percentile 60 :22.6 \n",
      "100\n",
      "28.7\n",
      "28\n",
      "0.6999999999999993\n",
      "25\n",
      "26\n",
      "Percentile 70 :25.7 \n",
      "100\n",
      "32.8\n",
      "32\n",
      "0.7999999999999972\n",
      "27\n",
      "27\n",
      "Percentile 80 :27.0 \n",
      "100\n",
      "36.9\n",
      "36\n",
      "0.8999999999999986\n",
      "30\n",
      "31\n",
      "Percentile 90 :30.9 \n"
     ]
    }
   ],
   "source": [
    "sorting(data)\n",
    "\n",
    "for i in range (1,4): \n",
    "    result = calc_dpq(data,i,\"q\")\n",
    "    print (f\"Quartile {i} :{result} \")\n",
    "for i in range (1,10):\n",
    "    result = calc_dpq(data,i,\"d\")\n",
    "    print (f\"Decile {i} :{result} \")\n",
    "for i in range (0,100,10):\n",
    "    result = calc_dpq(data,i,\"p\")\n",
    "    print (f\"Percentile {i} :{result} \")\n"
   ]
  },
  {
   "cell_type": "code",
   "execution_count": null,
   "metadata": {},
   "outputs": [],
   "source": []
  }
 ],
 "metadata": {
  "kernelspec": {
   "display_name": "Python 3",
   "language": "python",
   "name": "python3"
  },
  "language_info": {
   "codemirror_mode": {
    "name": "ipython",
    "version": 3
   },
   "file_extension": ".py",
   "mimetype": "text/x-python",
   "name": "python",
   "nbconvert_exporter": "python",
   "pygments_lexer": "ipython3",
   "version": "3.11.4"
  },
  "orig_nbformat": 4
 },
 "nbformat": 4,
 "nbformat_minor": 2
}
